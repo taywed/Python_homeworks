{
 "cells": [
  {
   "cell_type": "code",
   "execution_count": null,
   "id": "83981891",
   "metadata": {
    "vscode": {
     "languageId": "plaintext"
    }
   },
   "outputs": [],
   "source": [
    "import pandas as pd\n",
    "\n",
    "customers = pd.DataFrame({\n",
    "    \"CustomerId\": [1, 2, 3, 4, 5],\n",
    "    \"FirstName\": [\"Alice\", \"Bob\", \"Carol\", \"Dave\", \"Eve\"],\n",
    "    \"LastName\": [\"Smith\", \"Jones\", \"Lee\", \"Brown\", \"Davis\"]\n",
    "})\n",
    "\n",
    "invoices = pd.DataFrame({\n",
    "    \"InvoiceId\": [101, 102, 103, 104, 105, 106, 107, 108],\n",
    "    \"CustomerId\": [1, 2, 1, 3, 4, 2, 5, 5],\n",
    "    \"Total\": [20.0, 35.0, 50.0, 40.0, 60.0, 45.0, 30.0, 25.0]\n",
    "})\n",
    "\n",
    "invoice_items = pd.DataFrame({\n",
    "    \"InvoiceId\": [101, 102, 103, 104, 105, 106, 107, 108],\n",
    "    \"TrackId\": [1, 2, 3, 4, 5, 6, 1, 5]\n",
    "})\n",
    "\n",
    "tracks = pd.DataFrame({\n",
    "    \"TrackId\": [1, 2, 3, 4, 5, 6],\n",
    "    \"AlbumId\": [201, 202, 201, 203, 204, 202]\n",
    "})\n",
    "\n",
    "albums = pd.DataFrame({\n",
    "    \"AlbumId\": [201, 202, 203, 204],\n",
    "    \"Title\": [\"Rock Album\", \"Jazz Album\", \"Pop Album\", \"HipHop Album\"]\n",
    "})\n",
    "\n",
    "invoice_with_customers = pd.merge(invoices, customers, on=\"CustomerId\")\n",
    "customer_totals = invoice_with_customers.groupby([\"CustomerId\", \"FirstName\", \"LastName\"])[\"Total\"].sum().reset_index()\n",
    "top5_customers = customer_totals.sort_values(\"Total\", ascending=False).head(5)\n",
    "top5_customers[\"CustomerName\"] = top5_customers[\"FirstName\"] + \" \" + top5_customers[\"LastName\"]\n",
    "top5_result = top5_customers[[\"CustomerId\", \"CustomerName\", \"Total\"]]\n",
    "\n",
    "purchases = pd.merge(invoice_items, invoices[[\"InvoiceId\", \"CustomerId\"]], on=\"InvoiceId\")\n",
    "purchases = pd.merge(purchases, tracks[[\"TrackId\", \"AlbumId\"]], on=\"TrackId\")\n",
    "\n",
    "def buys_full_album(group):\n",
    "    album_track_counts = tracks.groupby(\"AlbumId\")[\"TrackId\"].count()\n",
    "    customer_album_counts = group.groupby(\"AlbumId\")[\"TrackId\"].nunique()\n",
    "    return (customer_album_counts == album_track_counts[customer_album_counts.index]).any()\n",
    "\n",
    "album_pref_summary = purchases.groupby(\"CustomerId\").apply(buys_full_album)\n",
    "album_pref_df = album_pref_summary.reset_index(name=\"BuysFullAlbum\")\n",
    "album_pref_df[\"Preference\"] = album_pref_df[\"BuysFullAlbum\"].map({True: \"Full Albums\", False: \"Individual Tracks\"})\n",
    "pref_percent = album_pref_df[\"Preference\"].value_counts(normalize=True) * 100\n",
    "pref_result = pref_percent.reset_index()\n",
    "pref_result.columns = [\"Preference\", \"Percentage\"]\n",
    "\n",
    "print(\"Top 5 Customers:\")\n",
    "print(top5_result)\n",
    "\n",
    "print(\"\\nCustomer Preferences (%):\")\n",
    "print(pref_result)\n"
   ]
  }
 ],
 "metadata": {
  "language_info": {
   "name": "python"
  }
 },
 "nbformat": 4,
 "nbformat_minor": 5
}
