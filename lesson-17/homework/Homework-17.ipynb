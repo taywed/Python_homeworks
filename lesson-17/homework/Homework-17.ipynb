{
 "cells": [
  {
   "cell_type": "code",
   "execution_count": null,
   "id": "aee0fcf4",
   "metadata": {},
   "outputs": [],
   "source": [
    "import pandas as pd\n",
    "import numpy as np\n",
    "\n",
    "data = {'First Name': ['Alice', 'Bob', 'Charlie', 'David'], 'Age': [25, 30, 35, 40], 'City': ['New York', 'San Francisco', 'Los Angeles', 'Chicago']}\n",
    "df = pd.DataFrame(data)\n",
    "df.rename(columns={'First Name': 'first_name', 'Age': 'age'}, inplace=True)\n",
    "print(df.head(3))\n",
    "mean_age = df['age'].mean()\n",
    "print('Mean Age:', mean_age)\n",
    "print(df[['first_name', 'City']])\n",
    "df['Salary'] = np.random.randint(50000, 100000, size=len(df))\n",
    "print(df.describe())\n",
    "\n",
    "sales_data = {\n",
    "    'Month': ['Jan', 'Feb', 'Mar', 'Apr'],\n",
    "    'Sales': [5000, 6000, 7500, 8000],\n",
    "    'Expenses': [3000, 3500, 4000, 4500]\n",
    "}\n",
    "sales_and_expenses = pd.DataFrame(sales_data)\n",
    "print('Max Sales:', sales_and_expenses['Sales'].max())\n",
    "print('Max Expenses:', sales_and_expenses['Expenses'].max())\n",
    "print('Min Sales:', sales_and_expenses['Sales'].min())\n",
    "print('Min Expenses:', sales_and_expenses['Expenses'].min())\n",
    "print('Average Sales:', sales_and_expenses['Sales'].mean())\n",
    "print('Average Expenses:', sales_and_expenses['Expenses'].mean())\n",
    "\n",
    "expenses_data = {\n",
    "    'Category': ['Rent', 'Utilities', 'Groceries', 'Entertainment'],\n",
    "    'January': [1200, 200, 300, 150],\n",
    "    'February': [1300, 220, 320, 160],\n",
    "    'March': [1400, 240, 330, 170],\n",
    "    'April': [1500, 250, 350, 180]\n",
    "}\n",
    "expenses = pd.DataFrame(expenses_data)\n",
    "expenses = expenses.set_index('Category')\n",
    "print('Max by Category:\\n', expenses.max(axis=1))\n",
    "print('Min by Category:\\n', expenses.min(axis=1))\n",
    "print('Average by Category:\\n', expenses.mean(axis=1))\n"
   ]
  }
 ],
 "metadata": {
  "kernelspec": {
   "display_name": ".venv",
   "language": "python",
   "name": "python3"
  },
  "language_info": {
   "name": "python",
   "version": "3.13.3"
  }
 },
 "nbformat": 4,
 "nbformat_minor": 5
}
