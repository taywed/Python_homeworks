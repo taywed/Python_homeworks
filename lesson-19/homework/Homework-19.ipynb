{
 "cells": [
  {
   "cell_type": "code",
   "execution_count": null,
   "id": "e81af8e6",
   "metadata": {
    "vscode": {
     "languageId": "plaintext"
    }
   },
   "outputs": [],
   "source": [
    "import pandas as pd\n",
    "\n",
    "sales_data = pd.DataFrame({\n",
    "    'Date': ['2023-01-01', '2023-01-01', '2023-01-02', '2023-01-02'],\n",
    "    'Product': ['Laptop', 'Phone', 'Laptop', 'Phone'],\n",
    "    'Category': ['Electronics', 'Electronics', 'Electronics', 'Electronics'],\n",
    "    'Quantity': [2, 5, 3, 7],\n",
    "    'Price': [1000, 500, 1000, 500]\n",
    "})\n",
    "\n",
    "sales_grouped = sales_data.groupby(\"Category\").agg(\n",
    "    total_quantity=(\"Quantity\", \"sum\"),\n",
    "    avg_price=(\"Price\", \"mean\"),\n",
    "    max_quantity=(\"Quantity\", \"max\")\n",
    ").reset_index()\n",
    "\n",
    "top_products = (\n",
    "    sales_data.groupby([\"Category\", \"Product\"])[\"Quantity\"]\n",
    "    .sum().reset_index()\n",
    "    .sort_values([\"Category\", \"Quantity\"], ascending=[True, False])\n",
    "    .drop_duplicates(\"Category\")\n",
    ")\n",
    "\n",
    "sales_data[\"TotalSale\"] = sales_data[\"Quantity\"] * sales_data[\"Price\"]\n",
    "top_sales_day = sales_data.groupby(\"Date\")[\"TotalSale\"].sum().reset_index().sort_values(\"TotalSale\", ascending=False).head(1)\n"
   ]
  },
  {
   "cell_type": "code",
   "execution_count": null,
   "id": "5fc349a5",
   "metadata": {
    "vscode": {
     "languageId": "plaintext"
    }
   },
   "outputs": [],
   "source": [
    "orders_data = pd.DataFrame({\n",
    "    'OrderID': range(1, 31),\n",
    "    'CustomerID': [101]*10 + [102]*10 + [103]*10,\n",
    "    'Product': ['Laptop']*15 + ['Phone']*15,\n",
    "    'Quantity': [1]*30,\n",
    "    'Price': [150]*10 + [130]*10 + [100]*10\n",
    "})\n",
    "\n",
    "order_counts = orders_data.groupby(\"CustomerID\")[\"OrderID\"].count()\n",
    "frequent_customers = order_counts[order_counts >= 20].index\n",
    "orders_frequent = orders_data[orders_data[\"CustomerID\"].isin(frequent_customers)]\n",
    "\n",
    "avg_price = orders_data.groupby(\"CustomerID\")[\"Price\"].mean()\n",
    "high_spenders = avg_price[avg_price > 120].index\n",
    "orders_high_price = orders_data[orders_data[\"CustomerID\"].isin(high_spenders)]\n",
    "\n",
    "product_summary = orders_data.groupby(\"Product\").agg(\n",
    "    total_quantity=(\"Quantity\", \"sum\"),\n",
    "    total_price=(\"Price\", \"sum\")\n",
    ").reset_index()\n",
    "\n",
    "popular_products = product_summary[product_summary[\"total_quantity\"] >= 5]\n"
   ]
  },
  {
   "cell_type": "code",
   "execution_count": null,
   "id": "a0061c7a",
   "metadata": {
    "vscode": {
     "languageId": "plaintext"
    }
   },
   "outputs": [],
   "source": [
    "import numpy as np\n",
    "\n",
    "population_df = pd.DataFrame({\n",
    "    'ID': range(1, 21),\n",
    "    'State': ['NY']*10 + ['CA']*10,\n",
    "    'Salary': [5000, 12000, 18000, 24000, 30000, 36000, 42000, 48000, 54000, 60000]*2\n",
    "})\n",
    "\n",
    "salary_band_df = pd.DataFrame({\n",
    "    'Category': ['Low', 'Medium', 'High'],\n",
    "    'Min': [0, 20001, 40001],\n",
    "    'Max': [20000, 40000, 100000]\n",
    "})\n",
    "\n",
    "def get_band(s):\n",
    "    for _, row in salary_band_df.iterrows():\n",
    "        if row[\"Min\"] <= s <= row[\"Max\"]:\n",
    "            return row[\"Category\"]\n",
    "    return \"Other\"\n",
    "\n",
    "population_df[\"SalaryBand\"] = population_df[\"Salary\"].apply(get_band)\n",
    "\n",
    "band_grouped = population_df.groupby(\"SalaryBand\")[\"Salary\"]\n",
    "band_stats = pd.DataFrame({\n",
    "    \"Population %\": band_grouped.count() / len(population_df) * 100,\n",
    "    \"Average Salary\": band_grouped.mean(),\n",
    "    \"Median Salary\": band_grouped.median(),\n",
    "    \"Population Count\": band_grouped.count()\n",
    "}).reset_index()\n",
    "\n",
    "state_band_group = population_df.groupby([\"State\", \"SalaryBand\"])[\"Salary\"]\n",
    "state_band_stats = pd.DataFrame({\n",
    "    \"Population %\": state_band_group.count() / population_df.groupby(\"State\")[\"Salary\"].count().reindex(state_band_group.count().index, level=0).values * 100,\n",
    "    \"Average Salary\": state_band_group.mean(),\n",
    "    \"Median Salary\": state_band_group.median(),\n",
    "    \"Population Count\": state_band_group.count()\n",
    "}).reset_index()\n"
   ]
  }
 ],
 "metadata": {
  "language_info": {
   "name": "python"
  }
 },
 "nbformat": 4,
 "nbformat_minor": 5
}
