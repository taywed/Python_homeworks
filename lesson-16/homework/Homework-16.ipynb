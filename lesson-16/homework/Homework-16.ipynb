{
 "cells": [
  {
   "cell_type": "code",
   "execution_count": null,
   "id": "bb8e7827",
   "metadata": {},
   "outputs": [],
   "source": [
    "import numpy as np\n",
    "list_values = [12.23, 13.32, 100, 36.32]\n",
    "array_1d = np.array(list_values)\n",
    "matrix_3x3 = np.arange(2, 11).reshape(3, 3)\n",
    "null_vector = np.zeros(10)\n",
    "null_vector[6] = 11\n",
    "array_12_38 = np.arange(12, 38)\n",
    "original_array = np.array([1, 2, 3, 4])\n",
    "float_array = original_array.astype(float)\n",
    "celsius_values = np.array([-17.78, -11.11, 7.34, 1.11, 37.73, 0.])\n",
    "fahrenheit_values = celsius_values * 9/5 + 32\n",
    "original = np.array([10, 20, 30])\n",
    "appended_array = np.append(original, [40, 50, 60, 70, 80, 90])\n",
    "random_array = np.random.rand(10)\n",
    "mean_val = np.mean(random_array)\n",
    "median_val = np.median(random_array)\n",
    "std_val = np.std(random_array)\n",
    "array_10x10 = np.random.rand(10, 10)\n",
    "min_val = np.min(array_10x10)\n",
    "max_val = np.max(array_10x10)\n",
    "array_3x3x3 = np.random.rand(3, 3, 3)\n",
    "print(\"1D Array:\", array_1d)\n",
    "print(\"3x3 Matrix:\\n\", matrix_3x3)\n",
    "print(\"Null Vector:\", null_vector)\n",
    "print(\"Array from 12 to 38:\", array_12_38)\n",
    "print(\"Float Array:\", float_array)\n",
    "print(\"Fahrenheit:\", fahrenheit_values)\n",
    "print(\"Appended Array:\", appended_array)\n",
    "print(\"Random Array:\", random_array)\n",
    "print(\"Mean:\", mean_val)\n",
    "print(\"Median:\", median_val)\n",
    "print(\"Standard Deviation:\", std_val)\n",
    "print(\"Min (10x10):\", min_val)\n",
    "print(\"Max (10x10):\", max_val)\n",
    "print(\"3x3x3 Random Array:\\n\", array_3x3x3)\n"
   ]
  }
 ],
 "metadata": {
  "kernelspec": {
   "display_name": ".venv",
   "language": "python",
   "name": "python3"
  },
  "language_info": {
   "name": "python",
   "version": "3.13.3"
  }
 },
 "nbformat": 4,
 "nbformat_minor": 5
}
