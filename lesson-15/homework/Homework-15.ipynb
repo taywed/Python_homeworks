{
 "cells": [
  {
   "cell_type": "code",
   "execution_count": null,
   "id": "60d821a5",
   "metadata": {},
   "outputs": [],
   "source": [
    "import sqlite3\n",
    "conn = sqlite3.connect(\":memory:\")\n",
    "cursor = conn.cursor()\n",
    "cursor.execute('CREATE TABLE Roster (Name TEXT, Species TEXT, Age INTEGER)')\n",
    "data = [\n",
    "    (\"Benjamin Sisko\", \"Human\", 40),\n",
    "    (\"Jadzia Dax\", \"Trill\", 300),\n",
    "    (\"Kira Nerys\", \"Bajoran\", 29)\n",
    "]\n",
    "cursor.executemany(\"INSERT INTO Roster (Name, Species, Age) VALUES (?, ?, ?)\", data)\n",
    "cursor.execute(\"UPDATE Roster SET Name = 'Ezri Dax' WHERE Name = 'Jadzia Dax'\")\n",
    "cursor.execute(\"SELECT Name, Age FROM Roster WHERE Species = 'Bajoran'\")\n",
    "results = cursor.fetchall()\n",
    "for name, age in results:\n",
    "    print(f\"Name: {name}, Age: {age}\")\n",
    "conn.close()"
   ]
  }
 ],
 "metadata": {
  "kernelspec": {
   "display_name": ".venv",
   "language": "python",
   "name": "python3"
  },
  "language_info": {
   "name": "python",
   "version": "3.13.3"
  }
 },
 "nbformat": 4,
 "nbformat_minor": 5
}
