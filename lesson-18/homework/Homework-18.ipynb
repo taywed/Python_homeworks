{
 "cells": [
  {
   "cell_type": "code",
   "execution_count": null,
   "id": "0b838946",
   "metadata": {},
   "outputs": [],
   "source": [
    "titanic_df = pd.read_csv(\"task\\\\titanic.csv\")\n",
    "\n",
    "female_class1_20_30 = titanic_df[\n",
    "    (titanic_df[\"Sex\"] == \"female\") &\n",
    "    (titanic_df[\"Pclass\"] == 1) &\n",
    "    (titanic_df[\"Age\"].between(20, 30))\n",
    "]\n",
    "\n",
    "fare_above_100 = titanic_df[titanic_df[\"Fare\"] > 100]\n",
    "\n",
    "survived_alone = titanic_df[\n",
    "    (titanic_df[\"Survived\"] == 1) &\n",
    "    (titanic_df[\"SibSp\"] == 0) &\n",
    "    (titanic_df[\"Parch\"] == 0)\n",
    "]\n",
    "\n",
    "embarked_C_fare_50 = titanic_df[\n",
    "    (titanic_df[\"Embarked\"] == \"C\") &\n",
    "    (titanic_df[\"Fare\"] > 50)\n",
    "]\n",
    "\n",
    "with_family = titanic_df[\n",
    "    (titanic_df[\"SibSp\"] > 0) & (titanic_df[\"Parch\"] > 0)\n",
    "]\n",
    "\n",
    "children_died = titanic_df[\n",
    "    (titanic_df[\"Age\"] <= 15) & (titanic_df[\"Survived\"] == 0)\n",
    "]\n",
    "\n",
    "cabin_and_fare = titanic_df[\n",
    "    (titanic_df[\"Cabin\"].notna()) & (titanic_df[\"Fare\"] > 200)\n",
    "]\n",
    "\n",
    "odd_passenger_ids = titanic_df[titanic_df[\"PassengerId\"] % 2 != 0]\n",
    "\n",
    "unique_tickets = titanic_df[titanic_df[\"Ticket\"].duplicated(keep=False) == False]\n",
    "\n",
    "miss_class1 = titanic_df[\n",
    "    (titanic_df[\"Name\"].str.contains(\"Miss\")) & (titanic_df[\"Pclass\"] == 1)\n",
    "]\n"
   ]
  },
  {
   "cell_type": "code",
   "execution_count": null,
   "id": "ed63201b",
   "metadata": {},
   "outputs": [],
   "source": [
    "import pandas as pd\n",
    "\n",
    "df = pd.read_csv(\"task\\\\stackoverflow_qa.csv\", parse_dates=[\"creationdate\"])\n",
    "\n",
    "before_2014 = df[df[\"creationdate\"] < \"2014-01-01\"]\n",
    "score_above_50 = df[df[\"score\"] > 50]\n",
    "score_50_100 = df[df[\"score\"].between(50, 100)]\n",
    "answered_by_scott = df[df[\"ans_name\"] == \"Scott Boston\"]\n",
    "users = [\"unutbu\", \"jezrael\", \"cs95\", \"DSM\", \"Scott Boston\"]\n",
    "answered_by_top5 = df[df[\"ans_name\"].isin(users)]\n",
    "filtered_unutbu = df[\n",
    "    (df[\"ans_name\"] == \"unutbu\") &\n",
    "    (df[\"creationdate\"] >= \"2014-03-01\") &\n",
    "    (df[\"creationdate\"] <= \"2014-10-31\") &\n",
    "    (df[\"score\"] < 5)\n",
    "]\n",
    "score_5_10_or_views = df[\n",
    "    (df[\"score\"].between(5, 10)) | (df[\"viewcount\"] > 10000)\n",
    "]\n",
    "not_scott = df[df[\"ans_name\"] != \"Scott Boston\"]\n"
   ]
  }
 ],
 "metadata": {
  "kernelspec": {
   "display_name": ".venv",
   "language": "python",
   "name": "python3"
  },
  "language_info": {
   "name": "python",
   "version": "3.13.3"
  }
 },
 "nbformat": 4,
 "nbformat_minor": 5
}
